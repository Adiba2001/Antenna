{
 "cells": [
  {
   "cell_type": "markdown",
   "id": "0a0108e9",
   "metadata": {
    "papermill": {
     "duration": 0.004429,
     "end_time": "2025-02-25T12:45:28.100651",
     "exception": false,
     "start_time": "2025-02-25T12:45:28.096222",
     "status": "completed"
    },
    "tags": []
   },
   "source": [
    "# Library Definition and Initialization"
   ]
  },
  {
   "cell_type": "code",
   "execution_count": 1,
   "id": "2abae898",
   "metadata": {
    "execution": {
     "iopub.execute_input": "2025-02-25T12:45:28.109690Z",
     "iopub.status.busy": "2025-02-25T12:45:28.109330Z",
     "iopub.status.idle": "2025-02-25T12:45:30.650880Z",
     "shell.execute_reply": "2025-02-25T12:45:30.649971Z"
    },
    "papermill": {
     "duration": 2.547731,
     "end_time": "2025-02-25T12:45:30.652345",
     "exception": false,
     "start_time": "2025-02-25T12:45:28.104614",
     "status": "completed"
    },
    "tags": []
   },
   "outputs": [],
   "source": [
    "import pandas as pd\n",
    "import numpy as np\n",
    "import seaborn as sns\n",
    "import matplotlib.pyplot as plt\n",
    "from sklearn.preprocessing import StandardScaler\n",
    "from sklearn.model_selection import train_test_split\n",
    "from sklearn.linear_model import LinearRegression\n",
    "from sklearn.linear_model import LogisticRegression"
   ]
  },
  {
   "cell_type": "code",
   "execution_count": 2,
   "id": "4a1809bd",
   "metadata": {
    "execution": {
     "iopub.execute_input": "2025-02-25T12:45:30.660955Z",
     "iopub.status.busy": "2025-02-25T12:45:30.660571Z",
     "iopub.status.idle": "2025-02-25T12:45:30.696183Z",
     "shell.execute_reply": "2025-02-25T12:45:30.695074Z"
    },
    "papermill": {
     "duration": 0.041269,
     "end_time": "2025-02-25T12:45:30.697606",
     "exception": false,
     "start_time": "2025-02-25T12:45:30.656337",
     "status": "completed"
    },
    "tags": []
   },
   "outputs": [
    {
     "data": {
      "text/html": [
       "<div>\n",
       "<style scoped>\n",
       "    .dataframe tbody tr th:only-of-type {\n",
       "        vertical-align: middle;\n",
       "    }\n",
       "\n",
       "    .dataframe tbody tr th {\n",
       "        vertical-align: top;\n",
       "    }\n",
       "\n",
       "    .dataframe thead th {\n",
       "        text-align: right;\n",
       "    }\n",
       "</style>\n",
       "<table border=\"1\" class=\"dataframe\">\n",
       "  <thead>\n",
       "    <tr style=\"text-align: right;\">\n",
       "      <th></th>\n",
       "      <th>Freq(GHz)</th>\n",
       "      <th>length of patch in mm</th>\n",
       "      <th>width of patch in mm</th>\n",
       "      <th>Slot length in mm</th>\n",
       "      <th>slot width in mm</th>\n",
       "      <th>s11(dB)</th>\n",
       "    </tr>\n",
       "  </thead>\n",
       "  <tbody>\n",
       "    <tr>\n",
       "      <th>0</th>\n",
       "      <td>1.500000</td>\n",
       "      <td>33.0</td>\n",
       "      <td>33</td>\n",
       "      <td>0.0</td>\n",
       "      <td>0</td>\n",
       "      <td>-4.927274</td>\n",
       "    </tr>\n",
       "    <tr>\n",
       "      <th>1</th>\n",
       "      <td>1.551724</td>\n",
       "      <td>33.0</td>\n",
       "      <td>33</td>\n",
       "      <td>0.0</td>\n",
       "      <td>0</td>\n",
       "      <td>-5.077877</td>\n",
       "    </tr>\n",
       "    <tr>\n",
       "      <th>2</th>\n",
       "      <td>1.603448</td>\n",
       "      <td>33.0</td>\n",
       "      <td>33</td>\n",
       "      <td>0.0</td>\n",
       "      <td>0</td>\n",
       "      <td>-5.183708</td>\n",
       "    </tr>\n",
       "    <tr>\n",
       "      <th>3</th>\n",
       "      <td>1.655172</td>\n",
       "      <td>33.0</td>\n",
       "      <td>33</td>\n",
       "      <td>0.0</td>\n",
       "      <td>0</td>\n",
       "      <td>-5.215997</td>\n",
       "    </tr>\n",
       "    <tr>\n",
       "      <th>4</th>\n",
       "      <td>1.706897</td>\n",
       "      <td>33.0</td>\n",
       "      <td>33</td>\n",
       "      <td>0.0</td>\n",
       "      <td>0</td>\n",
       "      <td>-5.120009</td>\n",
       "    </tr>\n",
       "  </tbody>\n",
       "</table>\n",
       "</div>"
      ],
      "text/plain": [
       "   Freq(GHz)  length of patch in mm  width of patch in mm  Slot length in mm  \\\n",
       "0   1.500000                   33.0                    33                0.0   \n",
       "1   1.551724                   33.0                    33                0.0   \n",
       "2   1.603448                   33.0                    33                0.0   \n",
       "3   1.655172                   33.0                    33                0.0   \n",
       "4   1.706897                   33.0                    33                0.0   \n",
       "\n",
       "   slot width in mm   s11(dB)  \n",
       "0                 0 -4.927274  \n",
       "1                 0 -5.077877  \n",
       "2                 0 -5.183708  \n",
       "3                 0 -5.215997  \n",
       "4                 0 -5.120009  "
      ]
     },
     "execution_count": 2,
     "metadata": {},
     "output_type": "execute_result"
    }
   ],
   "source": [
    "df = pd.read_csv('/kaggle/input/antenna-dataset/dataset_antenna.csv')\n",
    "df.head()"
   ]
  },
  {
   "cell_type": "markdown",
   "id": "329f367a",
   "metadata": {
    "papermill": {
     "duration": 0.003305,
     "end_time": "2025-02-25T12:45:30.704935",
     "exception": false,
     "start_time": "2025-02-25T12:45:30.701630",
     "status": "completed"
    },
    "tags": []
   },
   "source": [
    "# Exploratory Data Analysis"
   ]
  },
  {
   "cell_type": "code",
   "execution_count": 3,
   "id": "6b182bd2",
   "metadata": {
    "execution": {
     "iopub.execute_input": "2025-02-25T12:45:30.712803Z",
     "iopub.status.busy": "2025-02-25T12:45:30.712535Z",
     "iopub.status.idle": "2025-02-25T12:45:30.720063Z",
     "shell.execute_reply": "2025-02-25T12:45:30.719226Z"
    },
    "papermill": {
     "duration": 0.012734,
     "end_time": "2025-02-25T12:45:30.721121",
     "exception": false,
     "start_time": "2025-02-25T12:45:30.708387",
     "status": "completed"
    },
    "tags": []
   },
   "outputs": [
    {
     "data": {
      "text/plain": [
       "Freq(GHz)                0\n",
       "length of patch in mm    0\n",
       "width of patch in mm     0\n",
       "Slot length in mm        0\n",
       "slot width in mm         0\n",
       "s11(dB)                  0\n",
       "dtype: int64"
      ]
     },
     "execution_count": 3,
     "metadata": {},
     "output_type": "execute_result"
    }
   ],
   "source": [
    "df.isna().sum()"
   ]
  },
  {
   "cell_type": "code",
   "execution_count": 4,
   "id": "1a7b9431",
   "metadata": {
    "execution": {
     "iopub.execute_input": "2025-02-25T12:45:30.729382Z",
     "iopub.status.busy": "2025-02-25T12:45:30.729128Z",
     "iopub.status.idle": "2025-02-25T12:45:30.740171Z",
     "shell.execute_reply": "2025-02-25T12:45:30.739402Z"
    },
    "papermill": {
     "duration": 0.016605,
     "end_time": "2025-02-25T12:45:30.741448",
     "exception": false,
     "start_time": "2025-02-25T12:45:30.724843",
     "status": "completed"
    },
    "tags": []
   },
   "outputs": [
    {
     "data": {
      "text/plain": [
       "Freq(GHz)\n",
       "1.50    8\n",
       "3.00    8\n",
       "1.88    6\n",
       "1.89    6\n",
       "2.18    6\n",
       "       ..\n",
       "1.21    1\n",
       "1.22    1\n",
       "1.23    1\n",
       "1.24    1\n",
       "1.04    1\n",
       "Name: count, Length: 279, dtype: int64"
      ]
     },
     "execution_count": 4,
     "metadata": {},
     "output_type": "execute_result"
    }
   ],
   "source": [
    "df['Freq(GHz)'].value_counts()"
   ]
  },
  {
   "cell_type": "code",
   "execution_count": 5,
   "id": "2ba18940",
   "metadata": {
    "execution": {
     "iopub.execute_input": "2025-02-25T12:45:30.750863Z",
     "iopub.status.busy": "2025-02-25T12:45:30.750566Z",
     "iopub.status.idle": "2025-02-25T12:45:30.755532Z",
     "shell.execute_reply": "2025-02-25T12:45:30.754855Z"
    },
    "papermill": {
     "duration": 0.010654,
     "end_time": "2025-02-25T12:45:30.756600",
     "exception": false,
     "start_time": "2025-02-25T12:45:30.745946",
     "status": "completed"
    },
    "tags": []
   },
   "outputs": [
    {
     "data": {
      "text/plain": [
       "Index(['Freq(GHz)', 'length of patch in mm', 'width of patch in mm',\n",
       "       'Slot length in mm', 'slot width in mm', 's11(dB)'],\n",
       "      dtype='object')"
      ]
     },
     "execution_count": 5,
     "metadata": {},
     "output_type": "execute_result"
    }
   ],
   "source": [
    "df.columns"
   ]
  },
  {
   "cell_type": "code",
   "execution_count": 6,
   "id": "37d3ea2f",
   "metadata": {
    "execution": {
     "iopub.execute_input": "2025-02-25T12:45:30.765954Z",
     "iopub.status.busy": "2025-02-25T12:45:30.765680Z",
     "iopub.status.idle": "2025-02-25T12:45:30.770335Z",
     "shell.execute_reply": "2025-02-25T12:45:30.769628Z"
    },
    "papermill": {
     "duration": 0.010506,
     "end_time": "2025-02-25T12:45:30.771530",
     "exception": false,
     "start_time": "2025-02-25T12:45:30.761024",
     "status": "completed"
    },
    "tags": []
   },
   "outputs": [
    {
     "data": {
      "text/plain": [
       "(1266, 6)"
      ]
     },
     "execution_count": 6,
     "metadata": {},
     "output_type": "execute_result"
    }
   ],
   "source": [
    "df.shape"
   ]
  },
  {
   "cell_type": "code",
   "execution_count": 7,
   "id": "3ee5622e",
   "metadata": {
    "execution": {
     "iopub.execute_input": "2025-02-25T12:45:30.780800Z",
     "iopub.status.busy": "2025-02-25T12:45:30.780545Z",
     "iopub.status.idle": "2025-02-25T12:45:30.797664Z",
     "shell.execute_reply": "2025-02-25T12:45:30.796657Z"
    },
    "papermill": {
     "duration": 0.023115,
     "end_time": "2025-02-25T12:45:30.799120",
     "exception": false,
     "start_time": "2025-02-25T12:45:30.776005",
     "status": "completed"
    },
    "tags": []
   },
   "outputs": [
    {
     "name": "stdout",
     "output_type": "stream",
     "text": [
      "<class 'pandas.core.frame.DataFrame'>\n",
      "RangeIndex: 1266 entries, 0 to 1265\n",
      "Data columns (total 6 columns):\n",
      " #   Column                 Non-Null Count  Dtype  \n",
      "---  ------                 --------------  -----  \n",
      " 0   Freq(GHz)              1266 non-null   float64\n",
      " 1   length of patch in mm  1266 non-null   float64\n",
      " 2   width of patch in mm   1266 non-null   int64  \n",
      " 3   Slot length in mm      1266 non-null   float64\n",
      " 4   slot width in mm       1266 non-null   int64  \n",
      " 5   s11(dB)                1266 non-null   float64\n",
      "dtypes: float64(4), int64(2)\n",
      "memory usage: 59.5 KB\n"
     ]
    }
   ],
   "source": [
    "df.info()"
   ]
  },
  {
   "cell_type": "code",
   "execution_count": 8,
   "id": "1ffef435",
   "metadata": {
    "execution": {
     "iopub.execute_input": "2025-02-25T12:45:30.809102Z",
     "iopub.status.busy": "2025-02-25T12:45:30.808806Z",
     "iopub.status.idle": "2025-02-25T12:45:30.829623Z",
     "shell.execute_reply": "2025-02-25T12:45:30.828673Z"
    },
    "papermill": {
     "duration": 0.027145,
     "end_time": "2025-02-25T12:45:30.831068",
     "exception": false,
     "start_time": "2025-02-25T12:45:30.803923",
     "status": "completed"
    },
    "tags": []
   },
   "outputs": [
    {
     "data": {
      "text/html": [
       "<div>\n",
       "<style scoped>\n",
       "    .dataframe tbody tr th:only-of-type {\n",
       "        vertical-align: middle;\n",
       "    }\n",
       "\n",
       "    .dataframe tbody tr th {\n",
       "        vertical-align: top;\n",
       "    }\n",
       "\n",
       "    .dataframe thead th {\n",
       "        text-align: right;\n",
       "    }\n",
       "</style>\n",
       "<table border=\"1\" class=\"dataframe\">\n",
       "  <thead>\n",
       "    <tr style=\"text-align: right;\">\n",
       "      <th></th>\n",
       "      <th>Freq(GHz)</th>\n",
       "      <th>length of patch in mm</th>\n",
       "      <th>width of patch in mm</th>\n",
       "      <th>Slot length in mm</th>\n",
       "      <th>slot width in mm</th>\n",
       "      <th>s11(dB)</th>\n",
       "    </tr>\n",
       "  </thead>\n",
       "  <tbody>\n",
       "    <tr>\n",
       "      <th>count</th>\n",
       "      <td>1266.000000</td>\n",
       "      <td>1266.000000</td>\n",
       "      <td>1266.000000</td>\n",
       "      <td>1266.000000</td>\n",
       "      <td>1266.000000</td>\n",
       "      <td>1266.000000</td>\n",
       "    </tr>\n",
       "    <tr>\n",
       "      <th>mean</th>\n",
       "      <td>2.408768</td>\n",
       "      <td>39.636730</td>\n",
       "      <td>50.440758</td>\n",
       "      <td>19.399289</td>\n",
       "      <td>26.857820</td>\n",
       "      <td>-1.718475</td>\n",
       "    </tr>\n",
       "    <tr>\n",
       "      <th>std</th>\n",
       "      <td>0.604011</td>\n",
       "      <td>20.702096</td>\n",
       "      <td>34.846882</td>\n",
       "      <td>11.019903</td>\n",
       "      <td>16.369894</td>\n",
       "      <td>3.042243</td>\n",
       "    </tr>\n",
       "    <tr>\n",
       "      <th>min</th>\n",
       "      <td>1.000000</td>\n",
       "      <td>29.400000</td>\n",
       "      <td>26.000000</td>\n",
       "      <td>0.000000</td>\n",
       "      <td>0.000000</td>\n",
       "      <td>-34.533968</td>\n",
       "    </tr>\n",
       "    <tr>\n",
       "      <th>25%</th>\n",
       "      <td>1.910000</td>\n",
       "      <td>29.400000</td>\n",
       "      <td>38.000000</td>\n",
       "      <td>14.000000</td>\n",
       "      <td>24.000000</td>\n",
       "      <td>-1.387842</td>\n",
       "    </tr>\n",
       "    <tr>\n",
       "      <th>50%</th>\n",
       "      <td>2.410000</td>\n",
       "      <td>29.400000</td>\n",
       "      <td>38.000000</td>\n",
       "      <td>19.750000</td>\n",
       "      <td>24.000000</td>\n",
       "      <td>-0.744253</td>\n",
       "    </tr>\n",
       "    <tr>\n",
       "      <th>75%</th>\n",
       "      <td>2.900000</td>\n",
       "      <td>35.500000</td>\n",
       "      <td>38.000000</td>\n",
       "      <td>20.000000</td>\n",
       "      <td>28.000000</td>\n",
       "      <td>-0.596102</td>\n",
       "    </tr>\n",
       "    <tr>\n",
       "      <th>max</th>\n",
       "      <td>3.500000</td>\n",
       "      <td>87.000000</td>\n",
       "      <td>130.000000</td>\n",
       "      <td>85.000000</td>\n",
       "      <td>115.000000</td>\n",
       "      <td>-0.159236</td>\n",
       "    </tr>\n",
       "  </tbody>\n",
       "</table>\n",
       "</div>"
      ],
      "text/plain": [
       "         Freq(GHz)  length of patch in mm  width of patch in mm  \\\n",
       "count  1266.000000            1266.000000           1266.000000   \n",
       "mean      2.408768              39.636730             50.440758   \n",
       "std       0.604011              20.702096             34.846882   \n",
       "min       1.000000              29.400000             26.000000   \n",
       "25%       1.910000              29.400000             38.000000   \n",
       "50%       2.410000              29.400000             38.000000   \n",
       "75%       2.900000              35.500000             38.000000   \n",
       "max       3.500000              87.000000            130.000000   \n",
       "\n",
       "       Slot length in mm  slot width in mm      s11(dB)  \n",
       "count        1266.000000       1266.000000  1266.000000  \n",
       "mean           19.399289         26.857820    -1.718475  \n",
       "std            11.019903         16.369894     3.042243  \n",
       "min             0.000000          0.000000   -34.533968  \n",
       "25%            14.000000         24.000000    -1.387842  \n",
       "50%            19.750000         24.000000    -0.744253  \n",
       "75%            20.000000         28.000000    -0.596102  \n",
       "max            85.000000        115.000000    -0.159236  "
      ]
     },
     "execution_count": 8,
     "metadata": {},
     "output_type": "execute_result"
    }
   ],
   "source": [
    "df.describe()"
   ]
  },
  {
   "cell_type": "code",
   "execution_count": 9,
   "id": "c5876ded",
   "metadata": {
    "execution": {
     "iopub.execute_input": "2025-02-25T12:45:30.841295Z",
     "iopub.status.busy": "2025-02-25T12:45:30.840923Z",
     "iopub.status.idle": "2025-02-25T12:45:30.847186Z",
     "shell.execute_reply": "2025-02-25T12:45:30.846462Z"
    },
    "papermill": {
     "duration": 0.012566,
     "end_time": "2025-02-25T12:45:30.848328",
     "exception": false,
     "start_time": "2025-02-25T12:45:30.835762",
     "status": "completed"
    },
    "tags": []
   },
   "outputs": [
    {
     "data": {
      "text/plain": [
       "0"
      ]
     },
     "execution_count": 9,
     "metadata": {},
     "output_type": "execute_result"
    }
   ],
   "source": [
    "df.duplicated().sum()"
   ]
  },
  {
   "cell_type": "code",
   "execution_count": 10,
   "id": "0883afa3",
   "metadata": {
    "execution": {
     "iopub.execute_input": "2025-02-25T12:45:30.858136Z",
     "iopub.status.busy": "2025-02-25T12:45:30.857754Z",
     "iopub.status.idle": "2025-02-25T12:45:30.867116Z",
     "shell.execute_reply": "2025-02-25T12:45:30.866267Z"
    },
    "papermill": {
     "duration": 0.015591,
     "end_time": "2025-02-25T12:45:30.868245",
     "exception": false,
     "start_time": "2025-02-25T12:45:30.852654",
     "status": "completed"
    },
    "tags": []
   },
   "outputs": [
    {
     "data": {
      "text/html": [
       "<div>\n",
       "<style scoped>\n",
       "    .dataframe tbody tr th:only-of-type {\n",
       "        vertical-align: middle;\n",
       "    }\n",
       "\n",
       "    .dataframe tbody tr th {\n",
       "        vertical-align: top;\n",
       "    }\n",
       "\n",
       "    .dataframe thead th {\n",
       "        text-align: right;\n",
       "    }\n",
       "</style>\n",
       "<table border=\"1\" class=\"dataframe\">\n",
       "  <thead>\n",
       "    <tr style=\"text-align: right;\">\n",
       "      <th></th>\n",
       "      <th>freq(ghz)</th>\n",
       "      <th>length of patch in mm</th>\n",
       "      <th>width of patch in mm</th>\n",
       "      <th>slot length in mm</th>\n",
       "      <th>slot width in mm</th>\n",
       "      <th>s11(db)</th>\n",
       "    </tr>\n",
       "  </thead>\n",
       "  <tbody>\n",
       "    <tr>\n",
       "      <th>0</th>\n",
       "      <td>1.500000</td>\n",
       "      <td>33.0</td>\n",
       "      <td>33</td>\n",
       "      <td>0.0</td>\n",
       "      <td>0</td>\n",
       "      <td>-4.927274</td>\n",
       "    </tr>\n",
       "    <tr>\n",
       "      <th>1</th>\n",
       "      <td>1.551724</td>\n",
       "      <td>33.0</td>\n",
       "      <td>33</td>\n",
       "      <td>0.0</td>\n",
       "      <td>0</td>\n",
       "      <td>-5.077877</td>\n",
       "    </tr>\n",
       "    <tr>\n",
       "      <th>2</th>\n",
       "      <td>1.603448</td>\n",
       "      <td>33.0</td>\n",
       "      <td>33</td>\n",
       "      <td>0.0</td>\n",
       "      <td>0</td>\n",
       "      <td>-5.183708</td>\n",
       "    </tr>\n",
       "  </tbody>\n",
       "</table>\n",
       "</div>"
      ],
      "text/plain": [
       "   freq(ghz)  length of patch in mm  width of patch in mm  slot length in mm  \\\n",
       "0   1.500000                   33.0                    33                0.0   \n",
       "1   1.551724                   33.0                    33                0.0   \n",
       "2   1.603448                   33.0                    33                0.0   \n",
       "\n",
       "   slot width in mm   s11(db)  \n",
       "0                 0 -4.927274  \n",
       "1                 0 -5.077877  \n",
       "2                 0 -5.183708  "
      ]
     },
     "execution_count": 10,
     "metadata": {},
     "output_type": "execute_result"
    }
   ],
   "source": [
    "df.columns = df.columns.str.lower()\n",
    "df.head(3)"
   ]
  },
  {
   "cell_type": "code",
   "execution_count": 11,
   "id": "ca34ed7a",
   "metadata": {
    "execution": {
     "iopub.execute_input": "2025-02-25T12:45:30.878042Z",
     "iopub.status.busy": "2025-02-25T12:45:30.877680Z",
     "iopub.status.idle": "2025-02-25T12:45:30.882476Z",
     "shell.execute_reply": "2025-02-25T12:45:30.881720Z"
    },
    "papermill": {
     "duration": 0.010828,
     "end_time": "2025-02-25T12:45:30.883562",
     "exception": false,
     "start_time": "2025-02-25T12:45:30.872734",
     "status": "completed"
    },
    "tags": []
   },
   "outputs": [
    {
     "data": {
      "text/plain": [
       "Index(['freq(ghz)', 'length of patch in mm', 'width of patch in mm',\n",
       "       'slot length in mm', 'slot width in mm', 's11(db)'],\n",
       "      dtype='object')"
      ]
     },
     "execution_count": 11,
     "metadata": {},
     "output_type": "execute_result"
    }
   ],
   "source": [
    "df.columns"
   ]
  },
  {
   "cell_type": "markdown",
   "id": "da16efa9",
   "metadata": {
    "papermill": {
     "duration": 0.004082,
     "end_time": "2025-02-25T12:45:30.891911",
     "exception": false,
     "start_time": "2025-02-25T12:45:30.887829",
     "status": "completed"
    },
    "tags": []
   },
   "source": [
    "# Visualization"
   ]
  },
  {
   "cell_type": "code",
   "execution_count": 12,
   "id": "21748ae8",
   "metadata": {
    "execution": {
     "iopub.execute_input": "2025-02-25T12:45:30.901215Z",
     "iopub.status.busy": "2025-02-25T12:45:30.900858Z",
     "iopub.status.idle": "2025-02-25T12:45:31.268981Z",
     "shell.execute_reply": "2025-02-25T12:45:31.267744Z"
    },
    "papermill": {
     "duration": 0.374233,
     "end_time": "2025-02-25T12:45:31.270214",
     "exception": false,
     "start_time": "2025-02-25T12:45:30.895981",
     "status": "completed"
    },
    "tags": []
   },
   "outputs": [
    {
     "data": {
      "text/plain": [
       "<Axes: xlabel='width of patch in mm', ylabel='s11(db)'>"
      ]
     },
     "execution_count": 12,
     "metadata": {},
     "output_type": "execute_result"
    },
    {
     "data": {
      "image/png": "[encoded data removed]",
      "text/plain": [
       "<Figure size 600x600 with 1 Axes>"
      ]
     },
     "metadata": {},
     "output_type": "display_data"
    }
   ],
   "source": [
    "import matplotlib.pyplot as plt\n",
    "figure = plt.figure(figsize=(6,6))\n",
    "sns.regplot(data = df,\n",
    "           x = df['width of patch in mm'],\n",
    "           y = df['s11(db)'],\n",
    "           color = 'g', marker = 'x')"
   ]
  },
  {
   "cell_type": "code",
   "execution_count": 13,
   "id": "750bea4b",
   "metadata": {
    "execution": {
     "iopub.execute_input": "2025-02-25T12:45:31.281268Z",
     "iopub.status.busy": "2025-02-25T12:45:31.280963Z",
     "iopub.status.idle": "2025-02-25T12:45:31.526997Z",
     "shell.execute_reply": "2025-02-25T12:45:31.526219Z"
    },
    "papermill": {
     "duration": 0.252814,
     "end_time": "2025-02-25T12:45:31.528241",
     "exception": false,
     "start_time": "2025-02-25T12:45:31.275427",
     "status": "completed"
    },
    "tags": []
   },
   "outputs": [
    {
     "data": {
      "image/png": "[encoded data removed]",
      "text/plain": [
       "<Figure size 800x600 with 2 Axes>"
      ]
     },
     "metadata": {},
     "output_type": "display_data"
    }
   ],
   "source": [
    "# Compute the correlation matrix\n",
    "correlation_matrix = df.corr()\n",
    "\n",
    "# Plot the heatmap\n",
    "plt.figure(figsize=(8,6))\n",
    "sns.heatmap(correlation_matrix, annot=True, cmap=\"coolwarm\", fmt=\".2f\", linewidths=0.5)\n",
    "\n",
    "plt.title(\"Correlation Matrix\")\n",
    "plt.show()"
   ]
  },
  {
   "cell_type": "code",
   "execution_count": 14,
   "id": "817a13ad",
   "metadata": {
    "execution": {
     "iopub.execute_input": "2025-02-25T12:45:31.542261Z",
     "iopub.status.busy": "2025-02-25T12:45:31.541894Z",
     "iopub.status.idle": "2025-02-25T12:45:31.780859Z",
     "shell.execute_reply": "2025-02-25T12:45:31.780061Z"
    },
    "papermill": {
     "duration": 0.247821,
     "end_time": "2025-02-25T12:45:31.782338",
     "exception": false,
     "start_time": "2025-02-25T12:45:31.534517",
     "status": "completed"
    },
    "tags": []
   },
   "outputs": [
    {
     "data": {
      "image/png": "[encoded data removed]",
      "text/plain": [
       "<Figure size 600x600 with 1 Axes>"
      ]
     },
     "metadata": {},
     "output_type": "display_data"
    }
   ],
   "source": [
    "import matplotlib.pyplot as plt\n",
    "\n",
    "figure = plt.figure(figsize=(6,6))\n",
    "plt.scatter(df['width of patch in mm'], df['s11(db)'], color='r', marker='.')\n",
    "\n",
    "plt.xlabel(\"Width of patch (mm)\")\n",
    "plt.ylabel(\"S11 (dB)\")\n",
    "plt.title(\"Scatter Plot of Slot Width vs. S11\")\n",
    "\n",
    "plt.show()\n"
   ]
  },
  {
   "cell_type": "markdown",
   "id": "bfb08195",
   "metadata": {
    "papermill": {
     "duration": 0.006012,
     "end_time": "2025-02-25T12:45:31.795133",
     "exception": false,
     "start_time": "2025-02-25T12:45:31.789121",
     "status": "completed"
    },
    "tags": []
   },
   "source": [
    "# Data Split & Preprocessing"
   ]
  },
  {
   "cell_type": "code",
   "execution_count": 15,
   "id": "9f1f71ad",
   "metadata": {
    "execution": {
     "iopub.execute_input": "2025-02-25T12:45:31.809150Z",
     "iopub.status.busy": "2025-02-25T12:45:31.808825Z",
     "iopub.status.idle": "2025-02-25T12:45:31.813383Z",
     "shell.execute_reply": "2025-02-25T12:45:31.812640Z"
    },
    "papermill": {
     "duration": 0.012992,
     "end_time": "2025-02-25T12:45:31.814539",
     "exception": false,
     "start_time": "2025-02-25T12:45:31.801547",
     "status": "completed"
    },
    "tags": []
   },
   "outputs": [],
   "source": [
    "x = df.drop(['s11(db)'], axis=1)\n",
    "y = df['s11(db)']"
   ]
  },
  {
   "cell_type": "code",
   "execution_count": 16,
   "id": "347a941a",
   "metadata": {
    "execution": {
     "iopub.execute_input": "2025-02-25T12:45:31.828390Z",
     "iopub.status.busy": "2025-02-25T12:45:31.828144Z",
     "iopub.status.idle": "2025-02-25T12:45:31.834822Z",
     "shell.execute_reply": "2025-02-25T12:45:31.834114Z"
    },
    "papermill": {
     "duration": 0.014949,
     "end_time": "2025-02-25T12:45:31.836144",
     "exception": false,
     "start_time": "2025-02-25T12:45:31.821195",
     "status": "completed"
    },
    "tags": []
   },
   "outputs": [],
   "source": [
    "scaler = StandardScaler()\n",
    "scaled_features = scaler.fit_transform(x)\n",
    "X = scaled_features"
   ]
  },
  {
   "cell_type": "code",
   "execution_count": 17,
   "id": "6b5cb429",
   "metadata": {
    "execution": {
     "iopub.execute_input": "2025-02-25T12:45:31.850932Z",
     "iopub.status.busy": "2025-02-25T12:45:31.850662Z",
     "iopub.status.idle": "2025-02-25T12:45:31.856185Z",
     "shell.execute_reply": "2025-02-25T12:45:31.854928Z"
    },
    "papermill": {
     "duration": 0.014212,
     "end_time": "2025-02-25T12:45:31.857496",
     "exception": false,
     "start_time": "2025-02-25T12:45:31.843284",
     "status": "completed"
    },
    "tags": []
   },
   "outputs": [],
   "source": [
    "# Train-test split\n",
    "X_train, X_test, y_train, y_test = train_test_split(X, y, test_size=0.2, random_state=42)"
   ]
  },
  {
   "cell_type": "code",
   "execution_count": 18,
   "id": "d2bd9433",
   "metadata": {
    "execution": {
     "iopub.execute_input": "2025-02-25T12:45:31.872111Z",
     "iopub.status.busy": "2025-02-25T12:45:31.871829Z",
     "iopub.status.idle": "2025-02-25T12:45:31.875668Z",
     "shell.execute_reply": "2025-02-25T12:45:31.874803Z"
    },
    "papermill": {
     "duration": 0.01286,
     "end_time": "2025-02-25T12:45:31.877358",
     "exception": false,
     "start_time": "2025-02-25T12:45:31.864498",
     "status": "completed"
    },
    "tags": []
   },
   "outputs": [],
   "source": [
    "from sklearn.metrics import mean_absolute_error, mean_squared_error, r2_score"
   ]
  },
  {
   "cell_type": "markdown",
   "id": "30373d38",
   "metadata": {
    "papermill": {
     "duration": 0.006353,
     "end_time": "2025-02-25T12:45:31.890797",
     "exception": false,
     "start_time": "2025-02-25T12:45:31.884444",
     "status": "completed"
    },
    "tags": []
   },
   "source": [
    "# Model-RandomForestRegressor"
   ]
  },
  {
   "cell_type": "code",
   "execution_count": 19,
   "id": "8507447e",
   "metadata": {
    "execution": {
     "iopub.execute_input": "2025-02-25T12:45:31.904972Z",
     "iopub.status.busy": "2025-02-25T12:45:31.904623Z",
     "iopub.status.idle": "2025-02-25T12:45:32.349834Z",
     "shell.execute_reply": "2025-02-25T12:45:32.348568Z"
    },
    "papermill": {
     "duration": 0.454045,
     "end_time": "2025-02-25T12:45:32.351380",
     "exception": false,
     "start_time": "2025-02-25T12:45:31.897335",
     "status": "completed"
    },
    "tags": []
   },
   "outputs": [
    {
     "name": "stdout",
     "output_type": "stream",
     "text": [
      "Random Forest MAE: 0.12467089364519644\n",
      "Random Forest MSE: 0.21773809408092207\n",
      "Random Forest R²: 0.9750832550515379\n",
      "Mean Absolute Percentage Error (MAPE): 4.3903142394896495\n"
     ]
    }
   ],
   "source": [
    "from sklearn.ensemble import RandomForestRegressor\n",
    "\n",
    "# Random Forest Model\n",
    "rf_model = RandomForestRegressor(n_estimators=100, random_state=42)\n",
    "rf_model.fit(X_train, y_train)\n",
    "\n",
    "# Predictions\n",
    "y_pred = rf_model.predict(X_test)\n",
    "\n",
    "# Regression metrics\n",
    "mae = mean_absolute_error(y_test, y_pred)\n",
    "mse = mean_squared_error(y_test, y_pred)\n",
    "r2 = r2_score(y_test, y_pred)\n",
    "\n",
    "print('Random Forest MAE:', mae)\n",
    "print('Random Forest MSE:', mse)\n",
    "print('Random Forest R²:', r2)\n",
    "\n",
    "# Calculate Mean Absolute Percentage Error (MAPE)\n",
    "mape = np.mean(np.abs((y_test - y_pred) / y_test)) * 100\n",
    "\n",
    "# Print the MAPE value\n",
    "print(\"Mean Absolute Percentage Error (MAPE):\", mape)"
   ]
  },
  {
   "cell_type": "markdown",
   "id": "07034bd3",
   "metadata": {
    "papermill": {
     "duration": 0.006425,
     "end_time": "2025-02-25T12:45:32.364694",
     "exception": false,
     "start_time": "2025-02-25T12:45:32.358269",
     "status": "completed"
    },
    "tags": []
   },
   "source": [
    "# HyperTuned Model-RandomForestRegressor"
   ]
  },
  {
   "cell_type": "code",
   "execution_count": 20,
   "id": "36f6c3da",
   "metadata": {
    "execution": {
     "iopub.execute_input": "2025-02-25T12:45:32.379036Z",
     "iopub.status.busy": "2025-02-25T12:45:32.378644Z",
     "iopub.status.idle": "2025-02-25T12:46:06.995976Z",
     "shell.execute_reply": "2025-02-25T12:46:06.994663Z"
    },
    "papermill": {
     "duration": 34.626164,
     "end_time": "2025-02-25T12:46:06.997272",
     "exception": false,
     "start_time": "2025-02-25T12:45:32.371108",
     "status": "completed"
    },
    "tags": []
   },
   "outputs": [
    {
     "name": "stdout",
     "output_type": "stream",
     "text": [
      "Fitting 3 folds for each of 100 candidates, totalling 300 fits\n",
      "Random Forest MAE: 0.06936465323917401\n",
      "Random Forest MSE: 0.037493398834243616\n",
      "Random Forest R²: 0.9957094625083995\n",
      "Mean Absolute Percentage Error (MAPE): 2.6113685611485353\n",
      "Cross-validation scores: [0.98097259 0.98569671 0.97222584 0.94877505 0.95235646]\n",
      "Average cross-validation score: 0.9680053292301514\n"
     ]
    }
   ],
   "source": [
    "import joblib\n",
    "import numpy as np\n",
    "import pandas as pd\n",
    "from sklearn.ensemble import RandomForestRegressor\n",
    "from sklearn.model_selection import train_test_split, RandomizedSearchCV\n",
    "from sklearn.metrics import mean_absolute_error, mean_squared_error, r2_score\n",
    "from sklearn.model_selection import cross_val_score\n",
    "from sklearn.preprocessing import StandardScaler\n",
    "\n",
    "# Random Forest Model with Hyperparameter Tuning using RandomizedSearchCV\n",
    "rf_model = RandomForestRegressor(random_state=42)\n",
    "\n",
    "# Define the parameter grid to search through\n",
    "param_grid = {\n",
    "    'n_estimators': [50, 100, 200, 500],\n",
    "    'max_depth': [None, 10, 20, 30],\n",
    "    'min_samples_split': [2, 5, 10],\n",
    "    'min_samples_leaf': [1, 2, 4],\n",
    "    'max_features': ['auto', 'sqrt', 'log2']\n",
    "}\n",
    "\n",
    "# RandomizedSearchCV for hyperparameter tuning\n",
    "random_search = RandomizedSearchCV(estimator=rf_model, param_distributions=param_grid, \n",
    "                                   n_iter=100, cv=3, verbose=2, random_state=42, n_jobs=-1)\n",
    "random_search.fit(X_train, y_train)\n",
    "\n",
    "# Best parameters from RandomizedSearchCV\n",
    "best_rf_model = random_search.best_estimator_\n",
    "\n",
    "# Make predictions on the test set\n",
    "y_pred = best_rf_model.predict(X_test)\n",
    "\n",
    "# Regression metrics\n",
    "mae = mean_absolute_error(y_test, y_pred)\n",
    "mse = mean_squared_error(y_test, y_pred)\n",
    "r2 = r2_score(y_test, y_pred)\n",
    "\n",
    "# Calculate Mean Absolute Percentage Error (MAPE)\n",
    "mape = np.mean(np.abs((y_test - y_pred) / y_test)) * 100\n",
    "\n",
    "# Print the results\n",
    "print(\"Random Forest MAE:\", mae)\n",
    "print(\"Random Forest MSE:\", mse)\n",
    "print(\"Random Forest R²:\", r2)\n",
    "print(\"Mean Absolute Percentage Error (MAPE):\", mape)\n",
    "\n",
    "# Cross-validation to check the generalization of the model\n",
    "cv_scores = cross_val_score(best_rf_model, X_train, y_train, cv=5)\n",
    "print(\"Cross-validation scores:\", cv_scores)\n",
    "print(\"Average cross-validation score:\", np.mean(cv_scores))\n"
   ]
  }
 ],
 "metadata": {
  "kaggle": {
   "accelerator": "none",
   "dataSources": [
    {
     "datasetId": 6739320,
     "sourceId": 10850968,
     "sourceType": "datasetVersion"
    }
   ],
   "dockerImageVersionId": 30918,
   "isGpuEnabled": false,
   "isInternetEnabled": false,
   "language": "python",
   "sourceType": "notebook"
  },
  "kernelspec": {
   "display_name": "Python 3",
   "language": "python",
   "name": "python3"
  },
  "language_info": {
   "codemirror_mode": {
    "name": "ipython",
    "version": 3
   },
   "file_extension": ".py",
   "mimetype": "text/x-python",
   "name": "python",
   "nbconvert_exporter": "python",
   "pygments_lexer": "ipython3",
   "version": "3.10.12"
  },
  "papermill": {
   "default_parameters": {},
   "duration": 41.878285,
   "end_time": "2025-02-25T12:46:07.823966",
   "environment_variables": {},
   "exception": null,
   "input_path": "__notebook__.ipynb",
   "output_path": "__notebook__.ipynb",
   "parameters": {},
   "start_time": "2025-02-25T12:45:25.945681",
   "version": "2.6.0"
  }
 },
 "nbformat": 4,
 "nbformat_minor": 5
}
